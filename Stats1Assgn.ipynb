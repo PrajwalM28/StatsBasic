{
 "cells": [
  {
   "cell_type": "markdown",
   "id": "fe4be2df-55a6-4b73-8ec6-0cd0cc484a6c",
   "metadata": {},
   "source": [
    "# Q1."
   ]
  },
  {
   "cell_type": "markdown",
   "id": "4c44ed53-b725-404c-aeca-0c1aa0c9f4a9",
   "metadata": {},
   "source": [
    "Statistics is the science of collecting , organizing and analyzing the data."
   ]
  },
  {
   "cell_type": "markdown",
   "id": "0600c78e-5125-4e1e-925f-ed152c62f892",
   "metadata": {},
   "source": [
    "# Q2."
   ]
  },
  {
   "cell_type": "markdown",
   "id": "e070ea95-63da-44ee-a8ec-90a56ed2947b",
   "metadata": {},
   "source": [
    "Types of Statistics : \n",
    "\n",
    "\n",
    "    - 1 = Descriptive Stats:\n",
    "        - It consists of organizing and summarizing the data\n",
    "        - Mean , median , mode  , variance  and standard deviation\n",
    "        \n",
    "        \n",
    "    - 2 = Inferential Stats:\n",
    "        - It consists of using data you have measured to form conclusions.\n",
    "        - z test , hypothesis testing."
   ]
  },
  {
   "cell_type": "markdown",
   "id": "25e9d934-5520-4c5c-a25f-bb2041914a77",
   "metadata": {},
   "source": [
    "# Q3."
   ]
  },
  {
   "cell_type": "markdown",
   "id": "b1dd0f3a-3ab2-4640-8054-4a1a90553211",
   "metadata": {},
   "source": [
    "Types Of Data : \n",
    "\n",
    "\n",
    "    - 1. Quantitative :\n",
    "        - Discrete \n",
    "        - Continuous\n",
    "    \n",
    "    \n",
    "    \n",
    "    - 2. Qualitative : \n",
    "        - Nominal \n",
    "        - Ordinal"
   ]
  },
  {
   "cell_type": "markdown",
   "id": "274e4e99-cf57-4b8b-bd5d-a218ef90615d",
   "metadata": {},
   "source": [
    "Examples of Discrete data : \n",
    "\n",
    "\n",
    "     Whole number , \n",
    "        \n",
    "        \n",
    "        - No. of bank accounts , no. of children in a family , etc\n",
    "        \n",
    "        \n",
    "Examples of Continuous data : \n",
    "\n",
    "\n",
    "    Average Value, \n",
    "    \n",
    "    \n",
    "     - Weight , Height , Temperature , Humidity\n",
    "        \n",
    "        \n",
    "Examples of Nominal Data : \n",
    "     \n",
    "        \n",
    "        - Gender , Blood Group , Colour \n",
    "        \n",
    "        \n",
    "Examples of Ordinal Data : \n",
    "    Rank \n",
    "    \n",
    "    \n",
    "      - Feedback reviews "
   ]
  },
  {
   "cell_type": "markdown",
   "id": "53a3f5c3-14fa-4acf-9f2e-d580e8a15b85",
   "metadata": {},
   "source": [
    "# Q4."
   ]
  },
  {
   "cell_type": "markdown",
   "id": "eabbbb83-04a7-480f-ac4d-23cad59cc0a8",
   "metadata": {},
   "source": [
    "1 = Qualitative\n",
    "\n",
    "2 = Qualitative\n",
    "\n",
    "3 = Quantitative\n",
    "\n",
    "4 = Quantitative"
   ]
  },
  {
   "cell_type": "markdown",
   "id": "fcade002-189a-4b96-9bd5-d3c57c8a35bb",
   "metadata": {},
   "source": [
    "# Q5."
   ]
  },
  {
   "cell_type": "markdown",
   "id": "ca8fbe56-2613-45e9-8ef7-39f948230a8b",
   "metadata": {},
   "source": [
    "Scale of Measurement of Data :\n",
    "    \n",
    "    \n",
    "    -1. Nominal Scale Data :\n",
    "        - Qualitative / Categorical Variable\n",
    "        - Example : Gender , Colors , labels\n",
    "        - Order does not matter\n",
    "        \n",
    "        \n",
    "    -2. Ordinal Scale Data : \n",
    "        - Ranking and order matter\n",
    "        - Difference Cannot be measured\n",
    "        - Eg : Qualification \n",
    "        \n",
    "        \n",
    "    -3. Interval Scale Data :\n",
    "        - Rank and order matters\n",
    "        - Difference can be measured excluding Ratio\n",
    "        - Does not have \"0\" starting value\n",
    "        \n",
    "        \n",
    "    -4. Ratio Scale Data : \n",
    "        - Rank and Order matters\n",
    "        - Differences and ratio are measurable\n",
    "        - It does have \"0\" starting value."
   ]
  },
  {
   "cell_type": "markdown",
   "id": "17bc6bd4-0d35-4712-971d-579c78c4be97",
   "metadata": {},
   "source": [
    "# Q6."
   ]
  },
  {
   "cell_type": "markdown",
   "id": "b0e4ccc7-43b1-46eb-b6e3-8d9dc3a31a6f",
   "metadata": {},
   "source": [
    "It determines the type of statistical analysis and operations that can be appropriately applied to the data.\n",
    "    \n",
    "\n",
    "    \n",
    "Nominal Data: \n",
    "    \n",
    "    Car models are categorized into types like Sedan, SUV, and Truck. Here, we can't perform arithmetic operations or make meaningful comparisons of \"greater than\" or \"less than\" between these categories. The only operation allowed is grouping or categorization.\n",
    "\n",
    "    \n",
    "    \n",
    "Ordinal Data: \n",
    "    \n",
    "    Car models are ranked based on their size, for example, \"Small,\" \"Medium,\" and \"Large.\" While we can order these categories.\n",
    "\n",
    "Interval Data:\n",
    "    \n",
    "    Car models are measured on a scale of 1 to 10 based on their fuel efficiency. Here, we have a consistent scale with equal intervals between points, but there is no true zero point.\n",
    "\n",
    "    \n",
    "    \n",
    "Ratio Data: \n",
    "    \n",
    "    Car models are measured in terms of fuel efficiency in miles per gallon (MPG). Here, we have a true zero point (absence of fuel efficiency), and ratios are meaningful."
   ]
  },
  {
   "cell_type": "markdown",
   "id": "d59376ee-7d10-4f56-8f2a-c7468f6d724d",
   "metadata": {},
   "source": [
    "# Q7."
   ]
  },
  {
   "cell_type": "markdown",
   "id": "001f35fc-b4ad-4f46-ad5c-31d6f36e80f5",
   "metadata": {},
   "source": [
    "Nominal Data : \n",
    "    \n",
    "    - categories represent different groups or labels, and there is no inherent order or ranking among these categories. Nominal data only provides information about the identity or classification of items into various groups. \n",
    "    \n",
    "    \n",
    "    \n",
    "Ordinal Data : \n",
    "    \n",
    "    - categories have a meaningful order or ranking, indicating the relative position or magnitude of the variables. Ordinal data provides information about the order or rank of items but does not specify the degree of difference between them. "
   ]
  },
  {
   "cell_type": "markdown",
   "id": "45cc51e4-6492-469d-bd7e-f36c7fd57412",
   "metadata": {},
   "source": [
    "# Q8."
   ]
  },
  {
   "cell_type": "markdown",
   "id": "c6bf4595-44d6-47a0-8cc6-ad0d22e0a2b1",
   "metadata": {},
   "source": [
    "Box Plot "
   ]
  },
  {
   "cell_type": "markdown",
   "id": "71fc2c7a-0149-4400-b6f8-17e773d5d474",
   "metadata": {},
   "source": [
    "# Q9."
   ]
  },
  {
   "cell_type": "markdown",
   "id": "430e1052-1f3d-4aa1-8e93-e6e354d4615c",
   "metadata": {},
   "source": [
    "Descriptive statistics are focused on summarizing and describing the main features of a dataset.\n",
    "  \n",
    "  \n",
    "  Eg : consider a dataset of exam scores for a class of students. Descriptive statistics for this dataset might include the mean (average) score, the median (middle score), and the standard deviation (a measure of the spread of scores). \n",
    "\n",
    "\n",
    "Inferential statistics involve making predictions or inferences about a population based on a sample of data.\n",
    "\n",
    "\n",
    " Eg : a researcher wants to investigate whether a new teaching method improves student performance. They might take a random sample of students, apply the new teaching method, and compare their scores with a control group that receives traditional instruction. Inferential statistics, such as hypothesis testing and confidence intervals, could be used to determine."
   ]
  },
  {
   "cell_type": "markdown",
   "id": "a82bd127-ff5d-42ff-ad2e-7ee8527b9d51",
   "metadata": {},
   "source": [
    "# Q10."
   ]
  },
  {
   "cell_type": "markdown",
   "id": "5ca1c5c7-038f-458f-b5de-0ec64e4e9cb5",
   "metadata": {},
   "source": [
    "Mean:\n",
    "    -  The mean is useful for providing a single, representative value for a dataset. It's sensitive to the magnitude of each data point.\n",
    "    \n",
    "    \n",
    "Median:\n",
    "    -  The median is less sensitive to extreme values than the mean, making it a good measure of central tendency for skewed distributions.\n",
    "    \n",
    "    \n",
    "Mode:\n",
    "    -  The mode is helpful for identifying the most common values in a dataset, particularly in categorical data."
   ]
  }
 ],
 "metadata": {
  "kernelspec": {
   "display_name": "Python 3 (ipykernel)",
   "language": "python",
   "name": "python3"
  },
  "language_info": {
   "codemirror_mode": {
    "name": "ipython",
    "version": 3
   },
   "file_extension": ".py",
   "mimetype": "text/x-python",
   "name": "python",
   "nbconvert_exporter": "python",
   "pygments_lexer": "ipython3",
   "version": "3.10.8"
  }
 },
 "nbformat": 4,
 "nbformat_minor": 5
}
